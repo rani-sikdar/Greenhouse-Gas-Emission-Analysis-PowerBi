{
 "cells": [
  {
   "cell_type": "code",
   "execution_count": 2,
   "id": "b3f72944-437b-4485-bd5c-c32f63906f2a",
   "metadata": {},
   "outputs": [],
   "source": [
    "import pandas as pd"
   ]
  },
  {
   "cell_type": "code",
   "execution_count": 4,
   "id": "7ddda82d-c8fb-49ce-8a45-b0f76497f813",
   "metadata": {},
   "outputs": [
    {
     "name": "stdout",
     "output_type": "stream",
     "text": [
      "              Country  ISO2   ISO3                           Industry  \\\n",
      "0  Advanced Economies   NaN  AETMP  Agriculture, Forestry and Fishing   \n",
      "1  Advanced Economies   NaN  AETMP  Agriculture, Forestry and Fishing   \n",
      "2  Advanced Economies   NaN  AETMP  Agriculture, Forestry and Fishing   \n",
      "3  Advanced Economies   NaN  AETMP  Agriculture, Forestry and Fishing   \n",
      "4  Advanced Economies   NaN  AETMP  Agriculture, Forestry and Fishing   \n",
      "\n",
      "            Gas_Type        F2010        F2011        F2012        F2013  \\\n",
      "0     Carbon dioxide   194.398492   191.201537   192.473034   190.048764   \n",
      "1  Fluorinated gases     0.900844     0.948342     0.955449     1.029110   \n",
      "2     Greenhouse gas  1370.031102  1350.212366  1334.456632  1377.599894   \n",
      "3            Methane   641.415104   636.893906   637.064644   633.493095   \n",
      "4      Nitrous oxide   533.316661   521.168581   503.963505   553.028925   \n",
      "\n",
      "         F2014        F2015        F2016        F2017        F2018  \\\n",
      "0   190.966649   193.338608   187.562070   189.440100   188.437327   \n",
      "1     0.986873     1.011099     0.963934     0.950728     0.821667   \n",
      "2  1392.829858  1400.464829  1361.477669  1369.628014  1378.475201   \n",
      "3   633.856107   639.263923   633.542996   639.543088   641.580792   \n",
      "4   567.020229   566.851200   539.408671   539.694098   547.635416   \n",
      "\n",
      "         F2019        F2020        F2021        F2022  \n",
      "0   187.905257   182.266715   187.438675   184.520601  \n",
      "1     0.783003     0.747345     0.702196     0.707047  \n",
      "2  1375.349001  1338.959570  1344.523950  1330.550899  \n",
      "3   634.344665   631.733383   630.457326   621.965004  \n",
      "4   552.316076   524.212127   525.925753   523.358247  \n"
     ]
    }
   ],
   "source": [
    "# Load the dataset\n",
    "file_path = 'C:/Users/hp/Downloads/MYSQL UDEMY/Annual Greenhouse Gas (GHG) Air Emissions Accounts.csv'\n",
    "GHG = pd.read_csv(file_path)\n",
    "\n",
    "# Display the first few rows to inspect the data\n",
    "print(GHG.head())"
   ]
  },
  {
   "cell_type": "code",
   "execution_count": 5,
   "id": "7a460e53-60f6-4926-baa7-9a46a7a7a0d2",
   "metadata": {},
   "outputs": [],
   "source": [
    "#Cleaning Steps\n",
    "# Drop the ISO2 column\n",
    "GHG.drop(columns=['ISO2'], inplace=True)\n"
   ]
  },
  {
   "cell_type": "code",
   "execution_count": 24,
   "id": "98c84994-7d63-4f7d-ba8c-c010f60036cb",
   "metadata": {},
   "outputs": [
    {
     "name": "stdout",
     "output_type": "stream",
     "text": [
      "<class 'pandas.core.frame.DataFrame'>\n",
      "RangeIndex: 1186 entries, 0 to 1185\n",
      "Data columns (total 17 columns):\n",
      " #   Column    Non-Null Count  Dtype  \n",
      "---  ------    --------------  -----  \n",
      " 0   Country   1186 non-null   object \n",
      " 1   ISO3      1186 non-null   object \n",
      " 2   Industry  1186 non-null   object \n",
      " 3   Gas_Type  1186 non-null   object \n",
      " 4   F2010     1186 non-null   float64\n",
      " 5   F2011     1186 non-null   float64\n",
      " 6   F2012     1186 non-null   float64\n",
      " 7   F2013     1186 non-null   float64\n",
      " 8   F2014     1186 non-null   float64\n",
      " 9   F2015     1186 non-null   float64\n",
      " 10  F2016     1186 non-null   float64\n",
      " 11  F2017     1186 non-null   float64\n",
      " 12  F2018     1186 non-null   float64\n",
      " 13  F2019     1186 non-null   float64\n",
      " 14  F2020     1186 non-null   float64\n",
      " 15  F2021     1186 non-null   float64\n",
      " 16  F2022     1186 non-null   float64\n",
      "dtypes: float64(13), object(4)\n",
      "memory usage: 157.6+ KB\n"
     ]
    }
   ],
   "source": [
    "# Display the cleaned data info\n",
    "GHG_cleaned.info()"
   ]
  },
  {
   "cell_type": "code",
   "execution_count": 6,
   "id": "4626d596-0d68-438a-b24e-ab61b1ce5ca1",
   "metadata": {},
   "outputs": [
    {
     "ename": "NameError",
     "evalue": "name 'GHG_cleaned' is not defined",
     "output_type": "error",
     "traceback": [
      "\u001b[1;31m---------------------------------------------------------------------------\u001b[0m",
      "\u001b[1;31mNameError\u001b[0m                                 Traceback (most recent call last)",
      "Cell \u001b[1;32mIn[6], line 3\u001b[0m\n\u001b[0;32m      1\u001b[0m \u001b[38;5;66;03m# Save the cleaned data to a new CSV file\u001b[39;00m\n\u001b[0;32m      2\u001b[0m cleaned_file_path \u001b[38;5;241m=\u001b[39m \u001b[38;5;124m'\u001b[39m\u001b[38;5;124mC:/Users/hp/Downloads/MYSQL UDEMY/Cleaned_GHG_Emissions.csv\u001b[39m\u001b[38;5;124m'\u001b[39m\n\u001b[1;32m----> 3\u001b[0m \u001b[43mGHG_cleaned\u001b[49m\u001b[38;5;241m.\u001b[39mto_csv(cleaned_file_path, index\u001b[38;5;241m=\u001b[39m\u001b[38;5;28;01mFalse\u001b[39;00m)\n\u001b[0;32m      5\u001b[0m \u001b[38;5;66;03m# Display the cleaned data info\u001b[39;00m\n\u001b[0;32m      6\u001b[0m \u001b[38;5;28mprint\u001b[39m(GHG_cleaned\u001b[38;5;241m.\u001b[39minfo())\n",
      "\u001b[1;31mNameError\u001b[0m: name 'GHG_cleaned' is not defined"
     ]
    }
   ],
   "source": [
    "# Save the cleaned data to a new CSV file\n",
    "cleaned_file_path = 'C:/Users/hp/Downloads/MYSQL UDEMY/Cleaned_GHG_Emissions.csv'\n",
    "GHG_cleaned.to_csv(cleaned_file_path, index=False)\n",
    "\n",
    "# Display the cleaned data info\n",
    "print(GHG_cleaned.info())\n",
    "\n",
    "# Display the first few rows of the cleaned data\n",
    "print(GHG_cleaned.head())"
   ]
  },
  {
   "cell_type": "code",
   "execution_count": null,
   "id": "a6efe421-f104-4144-94e3-c593002b129b",
   "metadata": {},
   "outputs": [],
   "source": []
  }
 ],
 "metadata": {
  "kernelspec": {
   "display_name": "Python 3 (ipykernel)",
   "language": "python",
   "name": "python3"
  },
  "language_info": {
   "codemirror_mode": {
    "name": "ipython",
    "version": 3
   },
   "file_extension": ".py",
   "mimetype": "text/x-python",
   "name": "python",
   "nbconvert_exporter": "python",
   "pygments_lexer": "ipython3",
   "version": "3.12.0"
  }
 },
 "nbformat": 4,
 "nbformat_minor": 5
}
